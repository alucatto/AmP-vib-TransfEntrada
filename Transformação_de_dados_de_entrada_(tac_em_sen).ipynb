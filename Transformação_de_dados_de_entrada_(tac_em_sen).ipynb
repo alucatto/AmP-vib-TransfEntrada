{
  "nbformat": 4,
  "nbformat_minor": 0,
  "metadata": {
    "colab": {
      "name": "Transformação de dados de entrada (tac em sen).ipynb",
      "provenance": [],
      "collapsed_sections": [],
      "toc_visible": true,
      "include_colab_link": true
    },
    "kernelspec": {
      "name": "python3",
      "display_name": "Python 3"
    },
    "language_info": {
      "codemirror_mode": {
        "name": "ipython",
        "version": 3
      },
      "file_extension": ".py",
      "mimetype": "text/x-python",
      "name": "python",
      "nbconvert_exporter": "python",
      "pygments_lexer": "ipython3",
      "version": "3.6.5"
    }
  },
  "cells": [
    {
      "cell_type": "markdown",
      "metadata": {
        "id": "view-in-github",
        "colab_type": "text"
      },
      "source": [
        "<a href=\"https://colab.research.google.com/github/alucatto/AmP-vib-TransfEntrada/blob/main/Transforma%C3%A7%C3%A3o_de_dados_de_entrada_(tac_em_sen).ipynb\" target=\"_parent\"><img src=\"https://colab.research.google.com/assets/colab-badge.svg\" alt=\"Open In Colab\"/></a>"
      ]
    },
    {
      "cell_type": "markdown",
      "metadata": {
        "id": "IDW9z36efVw-"
      },
      "source": [
        "### Bibliotecas"
      ]
    },
    {
      "cell_type": "code",
      "metadata": {
        "Collapsed": "false",
        "id": "NVD0i3mYHF5M"
      },
      "source": [
        "from scipy import signal\n",
        "import matplotlib.pyplot as plt\n",
        "import numpy as np\n",
        "import pandas as pd\n",
        "from glob import glob\n",
        "import os\n",
        "import time"
      ],
      "execution_count": 1,
      "outputs": []
    },
    {
      "cell_type": "code",
      "metadata": {
        "id": "LadIXGxDQijB"
      },
      "source": [
        "import math"
      ],
      "execution_count": 2,
      "outputs": []
    },
    {
      "cell_type": "markdown",
      "metadata": {
        "id": "hpzQytU8fA_-"
      },
      "source": [
        "### Mount Drive"
      ]
    },
    {
      "cell_type": "code",
      "metadata": {
        "id": "4wiIrkBpfHAJ",
        "outputId": "d8f7e7ae-1086-48f5-ff9b-0e4e1ef15817",
        "colab": {
          "base_uri": "https://localhost:8080/",
          "height": 34
        }
      },
      "source": [
        "from google.colab import drive\n",
        "drive.mount('/content/drive')"
      ],
      "execution_count": 3,
      "outputs": [
        {
          "output_type": "stream",
          "text": [
            "Mounted at /content/drive\n"
          ],
          "name": "stdout"
        }
      ]
    },
    {
      "cell_type": "markdown",
      "metadata": {
        "Collapsed": "false",
        "id": "K0kS664RucmI"
      },
      "source": [
        "#### Funções "
      ]
    },
    {
      "cell_type": "markdown",
      "metadata": {
        "Collapsed": "true",
        "id": "VKMxxzmWucmJ"
      },
      "source": [
        "##### Pegar os arquivos dentro dos diretórios"
      ]
    },
    {
      "cell_type": "code",
      "metadata": {
        "Collapsed": "false",
        "id": "UCnR2s_NucmK"
      },
      "source": [
        "#    For the given path, get the List of all files in the directory tree \n",
        "def getListOfFiles(dirName):\n",
        "    # create a list of file and sub directories \n",
        "    # names in the given directory \n",
        "    listOfFile = os.listdir(dirName)\n",
        "    allFiles = list()\n",
        "    # Iterate over all the entries\n",
        "    for entry in listOfFile:\n",
        "        # Create full path\n",
        "        fullPath = os.path.join(dirName, entry)\n",
        "        # If entry is a directory then get the list of files in this directory \n",
        "        if os.path.isdir(fullPath):\n",
        "            allFiles = allFiles + getListOfFiles(fullPath)\n",
        "        else:\n",
        "            allFiles.append(fullPath)\n",
        "                \n",
        "    return allFiles"
      ],
      "execution_count": null,
      "outputs": []
    },
    {
      "cell_type": "markdown",
      "metadata": {
        "Collapsed": "false",
        "id": "i2gkGDhMucmT"
      },
      "source": [
        "###### Auxiliar "
      ]
    },
    {
      "cell_type": "code",
      "metadata": {
        "Collapsed": "false",
        "id": "QB37QYVFucmU"
      },
      "source": [
        "def podando_negative_frequencies(n):    \n",
        "    return n[:int(np.shape(n)[0]/2)]"
      ],
      "execution_count": null,
      "outputs": []
    },
    {
      "cell_type": "markdown",
      "metadata": {
        "Collapsed": "false",
        "id": "AY4mDlPONTu4"
      },
      "source": [
        "#### Processando os sinais\n"
      ]
    },
    {
      "cell_type": "markdown",
      "metadata": {
        "Collapsed": "true",
        "id": "6ZFZiHcEucmb"
      },
      "source": [
        "###### Definindo dicionários com pastas de leituras\n",
        "\n"
      ]
    },
    {
      "cell_type": "code",
      "metadata": {
        "Collapsed": "false",
        "id": "mgU0isPhucmc"
      },
      "source": [
        "'''pastas_de_arquivos = { 'normal': 0.0,\n",
        "                       'imbalance':0.1,\n",
        "                       'horizontal-misalignment':0.2,\n",
        "                      'overhang':0.3,\n",
        "                      'underhang':0.4,\n",
        "                      'vertical-misalignment':0.5\n",
        "                    }"
      ],
      "execution_count": null,
      "outputs": []
    },
    {
      "cell_type": "code",
      "metadata": {
        "id": "miecaof_lP18"
      },
      "source": [
        "pastas_de_arquivos = {'Baseline': 0.0,\n",
        "                      'Desbalanc1LA': 0.1,\n",
        "                      'Desbalanc2LOA': 0.2,\n",
        "                      'DesalinhHorizLOA': 0.3}"
      ],
      "execution_count": null,
      "outputs": []
    },
    {
      "cell_type": "markdown",
      "metadata": {
        "Collapsed": "true",
        "id": "0ubsbvGVucmg"
      },
      "source": [
        "###### Laço por todos os arquivos"
      ]
    },
    {
      "cell_type": "code",
      "metadata": {
        "Collapsed": "false",
        "id": "7NezFj6Jucmi"
      },
      "source": [
        "'''listas_de_arquivos = []\n",
        "for subfolder in pastas_de_arquivos:\n",
        "    lista = getListOfFiles('C:\\\\Users\\\\Murilo\\\\Desktop\\\\Mestrado\\\\PSI\\\\Trabalho FInal/'+subfolder+'/')\n",
        "    listas_de_arquivos.append([[subfolder],lista])\n",
        "    "
      ],
      "execution_count": null,
      "outputs": []
    },
    {
      "cell_type": "code",
      "metadata": {
        "id": "jM_WQeY0mlKu"
      },
      "source": [
        "listas_de_arquivos = []\n",
        "for subfolder in pastas_de_arquivos:\n",
        "    lista = getListOfFiles('/content/drive/My Drive/Dados coletados/'+subfolder)\n",
        "    listas_de_arquivos.append([[subfolder],lista])\n",
        "    "
      ],
      "execution_count": null,
      "outputs": []
    },
    {
      "cell_type": "markdown",
      "metadata": {
        "id": "WxFSHF55VIQT"
      },
      "source": [
        "## Leitura dos arquivos"
      ]
    },
    {
      "cell_type": "code",
      "metadata": {
        "id": "xb5rgd4jpdcG"
      },
      "source": [
        "dados1 = np.genfromtxt ('/content/drive/My Drive/Dados coletados/Desbalanc1LA/10Hz/Desbalanc1_10Hz_001.lvm', \n",
        "                       delimiter='\\t', skip_header=24, encoding = \"ISO-8859-1\")\n",
        "#dados2 = np.genfromtxt ('/content/drive/My Drive/Dados coletados/Baseline/20Hz/Normal_20Hz_001.lvm', \n",
        "                       #delimiter='\\t', skip_header=24, encoding = \"ISO-8859-1\")"
      ],
      "execution_count": 4,
      "outputs": []
    },
    {
      "cell_type": "markdown",
      "metadata": {
        "id": "Vv03itRAWm9e"
      },
      "source": [
        "## Montar tabela"
      ]
    },
    {
      "cell_type": "markdown",
      "metadata": {
        "id": "rap9Jb1ealVi"
      },
      "source": [
        "Somando o tempo do segundo ao tempo do primeiro, para dar sensação de continuação do tempo"
      ]
    },
    {
      "cell_type": "code",
      "metadata": {
        "id": "VFN7xHmKRpmv"
      },
      "source": [
        "for i in range(0,dados2.shape[0]-1):\n",
        "  dados2[i,1]=dados2[i,1]+dados1[35734-1,1]"
      ],
      "execution_count": null,
      "outputs": []
    },
    {
      "cell_type": "markdown",
      "metadata": {
        "id": "wkgHkjUqax04"
      },
      "source": [
        "Concatenação das duas planilhas com a continuação do tempo já ajustado:\n",
        "\n",
        "O número 35734 no final do dados1 é o índice que está sincronizando a última borda de subida do primeiro conjunto de dados com o início do segundo"
      ]
    },
    {
      "cell_type": "code",
      "metadata": {
        "id": "NumvcY9gWmRI"
      },
      "source": [
        "tabela=np.concatenate((dados1[0:35734], dados2), axis=0)"
      ],
      "execution_count": null,
      "outputs": []
    },
    {
      "cell_type": "markdown",
      "metadata": {
        "id": "R9Ro2SlJbLYH"
      },
      "source": [
        "## Detecção de borda de subida e conversão em rotação\n",
        "\n",
        "Cria um array com os índices das bordas de subida"
      ]
    },
    {
      "cell_type": "code",
      "metadata": {
        "id": "jYSPaZoe-0lR",
        "outputId": "49ca39c8-88f8-4102-8856-db65c4d9ae70",
        "colab": {
          "base_uri": "https://localhost:8080/",
          "height": 102
        }
      },
      "source": [
        "subida=np.flatnonzero((dados1[:-1,2] < 0.3) & (dados1[1:,2] > 0.3))+1\n",
        "print(subida)"
      ],
      "execution_count": 5,
      "outputs": [
        {
          "output_type": "stream",
          "text": [
            "[  605  1211  1815  2420  3026  3633  4239  4845  5451  6056  6662  7268\n",
            "  7873  8478  9083  9688 10293 10899 11504 12110 12715 13319 13924 14530\n",
            " 15135 15741 16346 16952 17556 18160 18766 19371 19976 20579 21184 21789\n",
            " 22392 22997 23601 24205 24810 25413 26018 26621 27226 27830 28434 29040\n",
            " 29645 30249 30854 31459 32065 32670 33276 33882 34488 35094 35700]\n"
          ],
          "name": "stdout"
        }
      ]
    },
    {
      "cell_type": "markdown",
      "metadata": {
        "id": "Hj2JObftblxm"
      },
      "source": [
        "Cálculo da rotação a partir das detecções de borda de subida"
      ]
    },
    {
      "cell_type": "code",
      "metadata": {
        "id": "lMbiH1knQGvT",
        "outputId": "6acb64ac-c488-4515-b223-ebeb96fc62fc",
        "colab": {
          "base_uri": "https://localhost:8080/",
          "height": 34
        }
      },
      "source": [
        "print(dados1.shape)"
      ],
      "execution_count": 6,
      "outputs": [
        {
          "output_type": "stream",
          "text": [
            "(35999, 11)\n"
          ],
          "name": "stdout"
        }
      ]
    },
    {
      "cell_type": "code",
      "metadata": {
        "id": "oMLEeQLOA_Dn",
        "outputId": "5462f5bd-e95c-4186-a981-6af0bcdf0c3b",
        "colab": {
          "base_uri": "https://localhost:8080/",
          "height": 34
        }
      },
      "source": [
        "#rotacao=np.zeros(subida[subida.shape[0]-1])\n",
        "rotacao=np.zeros(subida[subida.shape[0]-1]+1)\n",
        "\n",
        "senoide=np.zeros(dados1.shape[0])\n",
        "\n",
        "#primeiro período\n",
        "for i in range (0,subida[0]):\n",
        "  rotacao[i]=1/(dados1[subida[0],1]-dados1[0,1])\n",
        "  senoide[i]=math.sin(2*3.1415*rotacao[i]*i)\n",
        "\n",
        "#demais períodos\n",
        "for i in range (1,subida.shape[0]):\n",
        "  for j in range (subida[i-1],subida[i]):\n",
        "    rotacao[j]=1/(dados1[subida[i],1]-dados1[subida[i-1],1])\n",
        "    senoide[j]=math.sin(2*3.1415*rotacao[j]*j)\n",
        "\n",
        "#arrumando ultimos pontos (estavam com nan)\n",
        "for i in range(35093,subida[subida.shape[0]-1]+1): #35128 é o último valor certo\n",
        "  rotacao[i]=rotacao[35093-1]\n",
        "  senoide[i]=math.sin(2*3.1415*rotacao[i]*i)\n",
        "\n",
        "print(rotacao)"
      ],
      "execution_count": 25,
      "outputs": [
        {
          "output_type": "stream",
          "text": [
            "[9.91738816 9.91738816 9.91738816 ... 9.9009901  9.9009901  9.9009901 ]\n"
          ],
          "name": "stdout"
        }
      ]
    },
    {
      "cell_type": "markdown",
      "metadata": {
        "id": "LZAOh2xNbhEk"
      },
      "source": [
        "Gráfico para testes diversos. Ignorar."
      ]
    },
    {
      "cell_type": "code",
      "metadata": {
        "id": "RLFMB73LRuNR",
        "outputId": "f94099cb-7970-4e55-deca-6b1ddf335866",
        "colab": {
          "base_uri": "https://localhost:8080/",
          "height": 34
        }
      },
      "source": [
        "print(rotacao.shape)"
      ],
      "execution_count": 8,
      "outputs": [
        {
          "output_type": "stream",
          "text": [
            "(35701,)\n"
          ],
          "name": "stdout"
        }
      ]
    },
    {
      "cell_type": "code",
      "metadata": {
        "id": "Ur_XHqLXOI_O",
        "outputId": "e26a5e1e-1b59-4002-fae0-27e7dbc2d8c8",
        "colab": {
          "base_uri": "https://localhost:8080/",
          "height": 282
        }
      },
      "source": [
        "#plt.plot(rotacao[subida[subida.shape[0]-2]:],'bo')\n",
        "plt.plot(rotacao[35093:],'bo')\n",
        "#plt.plot(tabela[subida[subida.shape[0]-2]:subida[subida.shape[0]-1],2])"
      ],
      "execution_count": 24,
      "outputs": [
        {
          "output_type": "execute_result",
          "data": {
            "text/plain": [
              "[<matplotlib.lines.Line2D at 0x7f9179931588>]"
            ]
          },
          "metadata": {
            "tags": []
          },
          "execution_count": 24
        },
        {
          "output_type": "display_data",
          "data": {
            "image/png": "[encoded data removed]",
            "text/plain": [
              "<Figure size 432x288 with 1 Axes>"
            ]
          },
          "metadata": {
            "tags": [],
            "needs_background": "light"
          }
        }
      ]
    },
    {
      "cell_type": "code",
      "metadata": {
        "id": "JetKBnE2gy5F",
        "outputId": "531f7efc-53f1-43f0-d9ff-c8c7daac831b",
        "colab": {
          "base_uri": "https://localhost:8080/",
          "height": 282
        }
      },
      "source": [
        "plt.plot(rotacao)"
      ],
      "execution_count": 27,
      "outputs": [
        {
          "output_type": "execute_result",
          "data": {
            "text/plain": [
              "[<matplotlib.lines.Line2D at 0x7f9179510828>]"
            ]
          },
          "metadata": {
            "tags": []
          },
          "execution_count": 27
        },
        {
          "output_type": "display_data",
          "data": {
            "image/png": "[encoded data removed]",
            "text/plain": [
              "<Figure size 432x288 with 1 Axes>"
            ]
          },
          "metadata": {
            "tags": [],
            "needs_background": "light"
          }
        }
      ]
    },
    {
      "cell_type": "code",
      "metadata": {
        "id": "s8ROSCdZUwW7",
        "outputId": "4658cc8c-62f6-4d23-9389-5dcf916b2fcb",
        "colab": {
          "base_uri": "https://localhost:8080/",
          "height": 282
        }
      },
      "source": [
        "plt.plot(rotacao[18000:20000])"
      ],
      "execution_count": 26,
      "outputs": [
        {
          "output_type": "execute_result",
          "data": {
            "text/plain": [
              "[<matplotlib.lines.Line2D at 0x7f9179919198>]"
            ]
          },
          "metadata": {
            "tags": []
          },
          "execution_count": 26
        },
        {
          "output_type": "display_data",
          "data": {
            "image/png": "[encoded data removed]",
            "text/plain": [
              "<Figure size 432x288 with 1 Axes>"
            ]
          },
          "metadata": {
            "tags": [],
            "needs_background": "light"
          }
        }
      ]
    },
    {
      "cell_type": "code",
      "metadata": {
        "id": "7nYkKy-KScP_",
        "outputId": "1f7bce2f-c020-43e1-c153-687e0539e30d",
        "colab": {
          "base_uri": "https://localhost:8080/",
          "height": 282
        }
      },
      "source": [
        "plt.plot(senoide[18100:18200])"
      ],
      "execution_count": 28,
      "outputs": [
        {
          "output_type": "execute_result",
          "data": {
            "text/plain": [
              "[<matplotlib.lines.Line2D at 0x7f9179471d30>]"
            ]
          },
          "metadata": {
            "tags": []
          },
          "execution_count": 28
        },
        {
          "output_type": "display_data",
          "data": {
            "image/png": "[encoded data removed]",
            "text/plain": [
              "<Figure size 432x288 with 1 Axes>"
            ]
          },
          "metadata": {
            "tags": [],
            "needs_background": "light"
          }
        }
      ]
    },
    {
      "cell_type": "code",
      "metadata": {
        "id": "Fz96F02BXtNN",
        "outputId": "ecf06740-68bc-4e53-8f42-65d4b47fed03",
        "colab": {
          "base_uri": "https://localhost:8080/",
          "height": 34
        }
      },
      "source": [
        "rotacao.shape"
      ],
      "execution_count": 29,
      "outputs": [
        {
          "output_type": "execute_result",
          "data": {
            "text/plain": [
              "(35701,)"
            ]
          },
          "metadata": {
            "tags": []
          },
          "execution_count": 29
        }
      ]
    },
    {
      "cell_type": "code",
      "metadata": {
        "id": "FiWXW4gydz4b",
        "outputId": "33b064c2-f364-450b-a531-d505e30f2959",
        "colab": {
          "base_uri": "https://localhost:8080/",
          "height": 34
        }
      },
      "source": [
        "tabela.shape"
      ],
      "execution_count": null,
      "outputs": [
        {
          "output_type": "execute_result",
          "data": {
            "text/plain": [
              "(71733, 11)"
            ]
          },
          "metadata": {
            "tags": []
          },
          "execution_count": 177
        }
      ]
    },
    {
      "cell_type": "markdown",
      "metadata": {
        "id": "9WOPvtuPb5Mb"
      },
      "source": [
        "Concatenar rotação senoidal na tabela de dados"
      ]
    },
    {
      "cell_type": "code",
      "metadata": {
        "id": "9uFQ8K46gioy"
      },
      "source": [
        "tabela2 = dados1[:14500] #limitando em 14500 pontos"
      ],
      "execution_count": 30,
      "outputs": []
    },
    {
      "cell_type": "code",
      "metadata": {
        "id": "EuRVLZKAgn0n",
        "outputId": "7b06e5cb-a016-47b0-d345-aa98acdf12d0",
        "colab": {
          "base_uri": "https://localhost:8080/",
          "height": 238
        }
      },
      "source": [
        "print(tabela2)"
      ],
      "execution_count": 31,
      "outputs": [
        {
          "output_type": "stream",
          "text": [
            "[[ 1.000000e+00  1.670000e-04  1.000000e+00 ... -1.409290e-01\n",
            "   4.482210e-01 -1.522400e-01]\n",
            " [ 2.000000e+00  3.330000e-04  1.000000e+00 ... -3.515580e-01\n",
            "   4.610810e-01 -5.355800e-02]\n",
            " [ 3.000000e+00  5.000000e-04  1.000000e+00 ... -5.510190e-01\n",
            "   3.237110e-01  1.208210e-01]\n",
            " ...\n",
            " [ 1.449800e+04  2.416333e+00  0.000000e+00 ...  6.233500e-02\n",
            "   3.079450e-01  1.465010e-01]\n",
            " [ 1.449900e+04  2.416500e+00  0.000000e+00 ...  8.286900e-02\n",
            "   3.159790e-01  1.614570e-01]\n",
            " [ 1.450000e+04  2.416667e+00  0.000000e+00 ...  9.087100e-02\n",
            "   3.043480e-01  1.694370e-01]]\n"
          ],
          "name": "stdout"
        }
      ]
    },
    {
      "cell_type": "code",
      "metadata": {
        "id": "o2e8gJcZgvbW",
        "outputId": "01074477-714f-4a06-85c2-a3f1d07f02fd",
        "colab": {
          "base_uri": "https://localhost:8080/",
          "height": 34
        }
      },
      "source": [
        "tabela2.shape"
      ],
      "execution_count": 32,
      "outputs": [
        {
          "output_type": "execute_result",
          "data": {
            "text/plain": [
              "(14500, 11)"
            ]
          },
          "metadata": {
            "tags": []
          },
          "execution_count": 32
        }
      ]
    },
    {
      "cell_type": "code",
      "metadata": {
        "id": "aH7tUqxXb4qH"
      },
      "source": [
        "tabela3 = np.column_stack((tabela2, senoide[:14500]))"
      ],
      "execution_count": 33,
      "outputs": []
    },
    {
      "cell_type": "code",
      "metadata": {
        "id": "3ap4nYFxXWAJ",
        "outputId": "d975386a-ee44-48e8-fc3c-8072a85cea5b",
        "colab": {
          "base_uri": "https://localhost:8080/",
          "height": 238
        }
      },
      "source": [
        "print(tabela3)"
      ],
      "execution_count": 34,
      "outputs": [
        {
          "output_type": "stream",
          "text": [
            "[[ 1.00000000e+00  1.67000000e-04  1.00000000e+00 ...  4.48221000e-01\n",
            "  -1.52240000e-01  0.00000000e+00]\n",
            " [ 2.00000000e+00  3.33000000e-04  1.00000000e+00 ...  4.61081000e-01\n",
            "  -5.35580000e-02 -4.97663822e-01]\n",
            " [ 3.00000000e+00  5.00000000e-04  1.00000000e+00 ...  3.23711000e-01\n",
            "   1.20821000e-01 -8.63317340e-01]\n",
            " ...\n",
            " [ 1.44980000e+04  2.41633300e+00  0.00000000e+00 ...  3.07945000e-01\n",
            "   1.46501000e-01  4.80311097e-01]\n",
            " [ 1.44990000e+04  2.41650000e+00  0.00000000e+00 ...  3.15979000e-01\n",
            "   1.61457000e-01  9.02242432e-01]\n",
            " [ 1.45000000e+04  2.41666700e+00  0.00000000e+00 ...  3.04348000e-01\n",
            "   1.69437000e-01  9.84186041e-01]]\n"
          ],
          "name": "stdout"
        }
      ]
    },
    {
      "cell_type": "code",
      "metadata": {
        "id": "j7pwka31eG4x",
        "outputId": "a13e6a8f-4f82-4cb2-e285-d6b07394e3ac",
        "colab": {
          "base_uri": "https://localhost:8080/",
          "height": 282
        }
      },
      "source": [
        "plt.plot(tabela3[14000:,2])\n",
        "plt.plot(tabela3[14000:,6])\n",
        "plt.plot(tabela3[14200:,11])"
      ],
      "execution_count": 36,
      "outputs": [
        {
          "output_type": "execute_result",
          "data": {
            "text/plain": [
              "[<matplotlib.lines.Line2D at 0x7f91783561d0>]"
            ]
          },
          "metadata": {
            "tags": []
          },
          "execution_count": 36
        },
        {
          "output_type": "display_data",
          "data": {
            "image/png": "[encoded data removed]",
            "text/plain": [
              "<Figure size 432x288 with 1 Axes>"
            ]
          },
          "metadata": {
            "tags": [],
            "needs_background": "light"
          }
        }
      ]
    },
    {
      "cell_type": "markdown",
      "metadata": {
        "id": "1v0kTTO1WPE4"
      },
      "source": [
        "## Salvar os dados"
      ]
    },
    {
      "cell_type": "code",
      "metadata": {
        "id": "vO0pa4rfssW2"
      },
      "source": [
        "np.savetxt('/content/drive/My Drive/Dados concatenados/Desb1LA_sen10Hz_001.csv',tabela3,\n",
        "               delimiter=',')"
      ],
      "execution_count": 38,
      "outputs": []
    }
  ]
}