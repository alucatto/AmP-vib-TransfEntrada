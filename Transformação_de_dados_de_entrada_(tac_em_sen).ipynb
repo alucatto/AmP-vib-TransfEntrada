{
  "nbformat": 4,
  "nbformat_minor": 0,
  "metadata": {
    "colab": {
      "name": "Transformação de dados de entrada (tac em sen).ipynb",
      "provenance": [],
      "collapsed_sections": [],
      "toc_visible": true,
      "include_colab_link": true
    },
    "kernelspec": {
      "name": "python3",
      "display_name": "Python 3"
    },
    "language_info": {
      "codemirror_mode": {
        "name": "ipython",
        "version": 3
      },
      "file_extension": ".py",
      "mimetype": "text/x-python",
      "name": "python",
      "nbconvert_exporter": "python",
      "pygments_lexer": "ipython3",
      "version": "3.6.5"
    }
  },
  "cells": [
    {
      "cell_type": "markdown",
      "metadata": {
        "id": "view-in-github",
        "colab_type": "text"
      },
      "source": [
        "<a href=\"https://colab.research.google.com/github/alucatto/AmP-vib-TransfEntrada/blob/main/Transforma%C3%A7%C3%A3o_de_dados_de_entrada_(tac_em_sen).ipynb\" target=\"_parent\"><img src=\"https://colab.research.google.com/assets/colab-badge.svg\" alt=\"Open In Colab\"/></a>"
      ]
    },
    {
      "cell_type": "markdown",
      "metadata": {
        "id": "IDW9z36efVw-"
      },
      "source": [
        "### Bibliotecas"
      ]
    },
    {
      "cell_type": "code",
      "metadata": {
        "Collapsed": "false",
        "id": "NVD0i3mYHF5M"
      },
      "source": [
        "from scipy import signal\n",
        "import matplotlib.pyplot as plt\n",
        "import numpy as np\n",
        "import pandas as pd\n",
        "from glob import glob\n",
        "import os\n",
        "import time"
      ],
      "execution_count": null,
      "outputs": []
    },
    {
      "cell_type": "code",
      "metadata": {
        "id": "LadIXGxDQijB"
      },
      "source": [
        "import math"
      ],
      "execution_count": null,
      "outputs": []
    },
    {
      "cell_type": "markdown",
      "metadata": {
        "id": "hpzQytU8fA_-"
      },
      "source": [
        "### Mount Drive"
      ]
    },
    {
      "cell_type": "code",
      "metadata": {
        "id": "4wiIrkBpfHAJ",
        "outputId": "437eab19-2f7d-48ac-d00e-b8308537346d",
        "colab": {
          "base_uri": "https://localhost:8080/",
          "height": 34
        }
      },
      "source": [
        "from google.colab import drive\n",
        "drive.mount('/content/drive')"
      ],
      "execution_count": null,
      "outputs": [
        {
          "output_type": "stream",
          "text": [
            "Mounted at /content/drive\n"
          ],
          "name": "stdout"
        }
      ]
    },
    {
      "cell_type": "markdown",
      "metadata": {
        "Collapsed": "false",
        "id": "K0kS664RucmI"
      },
      "source": [
        "#### Funções "
      ]
    },
    {
      "cell_type": "markdown",
      "metadata": {
        "Collapsed": "true",
        "id": "VKMxxzmWucmJ"
      },
      "source": [
        "##### Pegar os arquivos dentro dos diretórios"
      ]
    },
    {
      "cell_type": "code",
      "metadata": {
        "Collapsed": "false",
        "id": "UCnR2s_NucmK"
      },
      "source": [
        "#    For the given path, get the List of all files in the directory tree \n",
        "def getListOfFiles(dirName):\n",
        "    # create a list of file and sub directories \n",
        "    # names in the given directory \n",
        "    listOfFile = os.listdir(dirName)\n",
        "    allFiles = list()\n",
        "    # Iterate over all the entries\n",
        "    for entry in listOfFile:\n",
        "        # Create full path\n",
        "        fullPath = os.path.join(dirName, entry)\n",
        "        # If entry is a directory then get the list of files in this directory \n",
        "        if os.path.isdir(fullPath):\n",
        "            allFiles = allFiles + getListOfFiles(fullPath)\n",
        "        else:\n",
        "            allFiles.append(fullPath)\n",
        "                \n",
        "    return allFiles"
      ],
      "execution_count": null,
      "outputs": []
    },
    {
      "cell_type": "markdown",
      "metadata": {
        "Collapsed": "false",
        "id": "i2gkGDhMucmT"
      },
      "source": [
        "###### Auxiliar "
      ]
    },
    {
      "cell_type": "code",
      "metadata": {
        "Collapsed": "false",
        "id": "QB37QYVFucmU"
      },
      "source": [
        "def podando_negative_frequencies(n):    \n",
        "    return n[:int(np.shape(n)[0]/2)]"
      ],
      "execution_count": null,
      "outputs": []
    },
    {
      "cell_type": "markdown",
      "metadata": {
        "Collapsed": "false",
        "id": "AY4mDlPONTu4"
      },
      "source": [
        "#### Processando os sinais\n"
      ]
    },
    {
      "cell_type": "markdown",
      "metadata": {
        "Collapsed": "true",
        "id": "6ZFZiHcEucmb"
      },
      "source": [
        "###### Definindo dicionários com pastas de leituras\n",
        "\n"
      ]
    },
    {
      "cell_type": "code",
      "metadata": {
        "Collapsed": "false",
        "id": "mgU0isPhucmc"
      },
      "source": [
        "'''pastas_de_arquivos = { 'normal': 0.0,\n",
        "                       'imbalance':0.1,\n",
        "                       'horizontal-misalignment':0.2,\n",
        "                      'overhang':0.3,\n",
        "                      'underhang':0.4,\n",
        "                      'vertical-misalignment':0.5\n",
        "                    }"
      ],
      "execution_count": null,
      "outputs": []
    },
    {
      "cell_type": "code",
      "metadata": {
        "id": "miecaof_lP18"
      },
      "source": [
        "pastas_de_arquivos = {'Baseline': 0.0,\n",
        "                      'Desbalanc1LA': 0.1,\n",
        "                      'Desbalanc2LOA': 0.2,\n",
        "                      'DesalinhHorizLOA': 0.3}"
      ],
      "execution_count": null,
      "outputs": []
    },
    {
      "cell_type": "markdown",
      "metadata": {
        "Collapsed": "true",
        "id": "0ubsbvGVucmg"
      },
      "source": [
        "###### Laço por todos os arquivos"
      ]
    },
    {
      "cell_type": "code",
      "metadata": {
        "Collapsed": "false",
        "id": "7NezFj6Jucmi"
      },
      "source": [
        "'''listas_de_arquivos = []\n",
        "for subfolder in pastas_de_arquivos:\n",
        "    lista = getListOfFiles('C:\\\\Users\\\\Murilo\\\\Desktop\\\\Mestrado\\\\PSI\\\\Trabalho FInal/'+subfolder+'/')\n",
        "    listas_de_arquivos.append([[subfolder],lista])\n",
        "    "
      ],
      "execution_count": null,
      "outputs": []
    },
    {
      "cell_type": "code",
      "metadata": {
        "id": "jM_WQeY0mlKu"
      },
      "source": [
        "listas_de_arquivos = []\n",
        "for subfolder in pastas_de_arquivos:\n",
        "    lista = getListOfFiles('/content/drive/My Drive/Dados coletados/'+subfolder)\n",
        "    listas_de_arquivos.append([[subfolder],lista])\n",
        "    "
      ],
      "execution_count": null,
      "outputs": []
    },
    {
      "cell_type": "markdown",
      "metadata": {
        "id": "WxFSHF55VIQT"
      },
      "source": [
        "## Leitura dos arquivos"
      ]
    },
    {
      "cell_type": "code",
      "metadata": {
        "id": "xb5rgd4jpdcG"
      },
      "source": [
        "dados1 = np.genfromtxt ('/content/drive/My Drive/Dados coletados/Baseline/10Hz/Normal_10Hz_001.lvm', \n",
        "                       delimiter='\\t', skip_header=24, encoding = \"ISO-8859-1\")\n",
        "#dados2 = np.genfromtxt ('/content/drive/My Drive/Dados coletados/Baseline/20Hz/Normal_20Hz_001.lvm', \n",
        "                       #delimiter='\\t', skip_header=24, encoding = \"ISO-8859-1\")"
      ],
      "execution_count": null,
      "outputs": []
    },
    {
      "cell_type": "markdown",
      "metadata": {
        "id": "Vv03itRAWm9e"
      },
      "source": [
        "## Montar tabela"
      ]
    },
    {
      "cell_type": "markdown",
      "metadata": {
        "id": "rap9Jb1ealVi"
      },
      "source": [
        "Somando o tempo do segundo ao tempo do primeiro, para dar sensação de continuação do tempo"
      ]
    },
    {
      "cell_type": "code",
      "metadata": {
        "id": "VFN7xHmKRpmv"
      },
      "source": [
        "for i in range(0,dados2.shape[0]-1):\n",
        "  dados2[i,1]=dados2[i,1]+dados1[35734-1,1]"
      ],
      "execution_count": null,
      "outputs": []
    },
    {
      "cell_type": "markdown",
      "metadata": {
        "id": "wkgHkjUqax04"
      },
      "source": [
        "Concatenação das duas planilhas com a continuação do tempo já ajustado:\n",
        "\n",
        "O número 35734 no final do dados1 é o índice que está sincronizando a última borda de subida do primeiro conjunto de dados com o início do segundo"
      ]
    },
    {
      "cell_type": "code",
      "metadata": {
        "id": "NumvcY9gWmRI"
      },
      "source": [
        "tabela=np.concatenate((dados1[0:35734], dados2), axis=0)"
      ],
      "execution_count": null,
      "outputs": []
    },
    {
      "cell_type": "markdown",
      "metadata": {
        "id": "R9Ro2SlJbLYH"
      },
      "source": [
        "## Detecção de borda de subida e conversão em rotação\n",
        "\n",
        "Cria um array com os índices das bordas de subida"
      ]
    },
    {
      "cell_type": "code",
      "metadata": {
        "id": "jYSPaZoe-0lR",
        "outputId": "0838bc42-0547-495a-d91a-20f362529ad1",
        "colab": {
          "base_uri": "https://localhost:8080/",
          "height": 102
        }
      },
      "source": [
        "subida=np.flatnonzero((dados1[:-1,2] < 0.3) & (dados1[1:,2] > 0.3))+1\n",
        "print(subida)"
      ],
      "execution_count": null,
      "outputs": [
        {
          "output_type": "stream",
          "text": [
            "[  605  1211  1817  2423  3028  3634  4240  4846  5451  6057  6662  7268\n",
            "  7873  8479  9083  9687 10292 10898 11503 12107 12712 13317 13922 14528\n",
            " 15134 15739 16345 16951 17557 18163 18771 19377 19983 20590 21197 21803\n",
            " 22409 23015 23621 24227 24832 25438 26044 26650 27256 27862 28468 29075\n",
            " 29681 30286 30892 31498 32103 32709 33315 33919 34524 35129 35734]\n"
          ],
          "name": "stdout"
        }
      ]
    },
    {
      "cell_type": "markdown",
      "metadata": {
        "id": "Hj2JObftblxm"
      },
      "source": [
        "Cálculo da rotação a partir das detecções de borda de subida"
      ]
    },
    {
      "cell_type": "code",
      "metadata": {
        "id": "lMbiH1knQGvT",
        "outputId": "be4f5675-fb09-4e21-fa35-9f50f7db1f5e",
        "colab": {
          "base_uri": "https://localhost:8080/",
          "height": 34
        }
      },
      "source": [
        "print(dados1.shape)"
      ],
      "execution_count": null,
      "outputs": [
        {
          "output_type": "stream",
          "text": [
            "(35999, 11)\n"
          ],
          "name": "stdout"
        }
      ]
    },
    {
      "cell_type": "code",
      "metadata": {
        "id": "oMLEeQLOA_Dn",
        "outputId": "db89b743-f2c1-425b-b283-68dfc9be7b4b",
        "colab": {
          "base_uri": "https://localhost:8080/",
          "height": 34
        }
      },
      "source": [
        "#rotacao=np.zeros(subida[subida.shape[0]-1])\n",
        "rotacao=np.zeros(subida[subida.shape[0]-1]+1)\n",
        "\n",
        "senoide=np.zeros(dados1.shape[0])\n",
        "\n",
        "#primeiro período\n",
        "for i in range (0,subida[0]):\n",
        "  rotacao[i]=1/(dados1[subida[0],1]-dados1[0,1])\n",
        "  senoide[i]=math.sin(2*3.1415*rotacao[i]*i)\n",
        "\n",
        "#demais períodos\n",
        "for i in range (1,subida.shape[0]):\n",
        "  for j in range (subida[i-1],subida[i]):\n",
        "    rotacao[j]=1/(dados1[subida[i],1]-dados1[subida[i-1],1])\n",
        "    senoide[j]=math.sin(2*3.1415*rotacao[j]*j)\n",
        "\n",
        "#arrumando ultimos pontos (estavam com nan)\n",
        "for i in range(35128,subida[subida.shape[0]-1]+1): #35128 é o último valor certo\n",
        "  rotacao[i]=rotacao[35128-1]\n",
        "  senoide[i]=math.sin(2*3.1415*rotacao[i]*i)\n",
        "\n",
        "print(rotacao)"
      ],
      "execution_count": null,
      "outputs": [
        {
          "output_type": "stream",
          "text": [
            "[9.91738816 9.91738816 9.91738816 ... 9.91738816 9.91738816 9.91738816]\n"
          ],
          "name": "stdout"
        }
      ]
    },
    {
      "cell_type": "markdown",
      "metadata": {
        "id": "LZAOh2xNbhEk"
      },
      "source": [
        "Gráfico para testes diversos. Ignorar."
      ]
    },
    {
      "cell_type": "code",
      "metadata": {
        "id": "RLFMB73LRuNR",
        "outputId": "24121dd9-9563-4266-cb9c-563abea2c8a8",
        "colab": {
          "base_uri": "https://localhost:8080/",
          "height": 34
        }
      },
      "source": [
        "print(rotacao.shape)"
      ],
      "execution_count": null,
      "outputs": [
        {
          "output_type": "stream",
          "text": [
            "(35735,)\n"
          ],
          "name": "stdout"
        }
      ]
    },
    {
      "cell_type": "code",
      "metadata": {
        "id": "Ur_XHqLXOI_O",
        "outputId": "52c9129b-27e9-4d88-e82a-9a798259c7bb",
        "colab": {
          "base_uri": "https://localhost:8080/",
          "height": 282
        }
      },
      "source": [
        "#plt.plot(rotacao[subida[subida.shape[0]-2]:],'bo')\n",
        "plt.plot(rotacao[35129:],'bo')\n",
        "#plt.plot(tabela[subida[subida.shape[0]-2]:subida[subida.shape[0]-1],2])"
      ],
      "execution_count": null,
      "outputs": [
        {
          "output_type": "execute_result",
          "data": {
            "text/plain": [
              "[<matplotlib.lines.Line2D at 0x7ffb6773a390>]"
            ]
          },
          "metadata": {
            "tags": []
          },
          "execution_count": 27
        },
        {
          "output_type": "display_data",
          "data": {
            "image/png": "[encoded data removed]",
            "text/plain": [
              "<Figure size 432x288 with 1 Axes>"
            ]
          },
          "metadata": {
            "tags": [],
            "needs_background": "light"
          }
        }
      ]
    },
    {
      "cell_type": "code",
      "metadata": {
        "id": "s8ROSCdZUwW7",
        "outputId": "42c189b6-fb7c-4b88-85b4-617a4dd92610",
        "colab": {
          "base_uri": "https://localhost:8080/",
          "height": 282
        }
      },
      "source": [
        "plt.plot(rotacao[18000:20000])"
      ],
      "execution_count": null,
      "outputs": [
        {
          "output_type": "execute_result",
          "data": {
            "text/plain": [
              "[<matplotlib.lines.Line2D at 0x7ffb66ad47b8>]"
            ]
          },
          "metadata": {
            "tags": []
          },
          "execution_count": 52
        },
        {
          "output_type": "display_data",
          "data": {
            "image/png": "[encoded data removed]",
            "text/plain": [
              "<Figure size 432x288 with 1 Axes>"
            ]
          },
          "metadata": {
            "tags": [],
            "needs_background": "light"
          }
        }
      ]
    },
    {
      "cell_type": "code",
      "metadata": {
        "id": "7nYkKy-KScP_",
        "outputId": "f04fd2df-c480-447d-8507-baa364157f87",
        "colab": {
          "base_uri": "https://localhost:8080/",
          "height": 282
        }
      },
      "source": [
        "plt.plot(senoide[18100:18200])"
      ],
      "execution_count": null,
      "outputs": [
        {
          "output_type": "execute_result",
          "data": {
            "text/plain": [
              "[<matplotlib.lines.Line2D at 0x7ffb6697e6d8>]"
            ]
          },
          "metadata": {
            "tags": []
          },
          "execution_count": 56
        },
        {
          "output_type": "display_data",
          "data": {
            "image/png": "[encoded data removed]",
            "text/plain": [
              "<Figure size 432x288 with 1 Axes>"
            ]
          },
          "metadata": {
            "tags": [],
            "needs_background": "light"
          }
        }
      ]
    },
    {
      "cell_type": "code",
      "metadata": {
        "id": "Fz96F02BXtNN",
        "outputId": "18dd478d-d3a9-4cb9-d9e9-aa7cefe50a3d",
        "colab": {
          "base_uri": "https://localhost:8080/",
          "height": 34
        }
      },
      "source": [
        "rotacao.shape"
      ],
      "execution_count": null,
      "outputs": [
        {
          "output_type": "execute_result",
          "data": {
            "text/plain": [
              "(71659,)"
            ]
          },
          "metadata": {
            "tags": []
          },
          "execution_count": 176
        }
      ]
    },
    {
      "cell_type": "code",
      "metadata": {
        "id": "FiWXW4gydz4b",
        "outputId": "33b064c2-f364-450b-a531-d505e30f2959",
        "colab": {
          "base_uri": "https://localhost:8080/",
          "height": 34
        }
      },
      "source": [
        "tabela.shape"
      ],
      "execution_count": null,
      "outputs": [
        {
          "output_type": "execute_result",
          "data": {
            "text/plain": [
              "(71733, 11)"
            ]
          },
          "metadata": {
            "tags": []
          },
          "execution_count": 177
        }
      ]
    },
    {
      "cell_type": "markdown",
      "metadata": {
        "id": "9WOPvtuPb5Mb"
      },
      "source": [
        "Concatenar rotação senoidal na tabela de dados"
      ]
    },
    {
      "cell_type": "code",
      "metadata": {
        "id": "9uFQ8K46gioy"
      },
      "source": [
        "tabela2 = dados1[:14500]"
      ],
      "execution_count": null,
      "outputs": []
    },
    {
      "cell_type": "code",
      "metadata": {
        "id": "EuRVLZKAgn0n",
        "outputId": "e98fb8a5-38ef-4694-8541-06ee39758ee9",
        "colab": {
          "base_uri": "https://localhost:8080/",
          "height": 238
        }
      },
      "source": [
        "print(tabela2)"
      ],
      "execution_count": null,
      "outputs": [
        {
          "output_type": "stream",
          "text": [
            "[[ 1.0000000e+00  1.6700000e-04  1.0000000e+00 ...  4.9530000e-02\n",
            "   1.7883000e-02  2.1431000e-02]\n",
            " [ 2.0000000e+00  3.3300000e-04  1.0000000e+00 ...  5.2846000e-02\n",
            "   1.3569000e-02  1.1224000e-02]\n",
            " [ 3.0000000e+00  5.0000000e-04  1.0000000e+00 ...  2.5712000e-02\n",
            "  -1.8239000e-02  3.0980000e-03]\n",
            " ...\n",
            " [ 3.5923000e+04  1.1942834e+01  0.0000000e+00 ... -3.8771500e-01\n",
            "  -2.4795000e-02 -2.0429300e-01]\n",
            " [ 3.5924000e+04  1.1943000e+01  0.0000000e+00 ... -2.8982000e-01\n",
            "  -9.4705000e-02 -2.2040500e-01]\n",
            " [ 3.5925000e+04            nan  1.0000000e+00 ...            nan\n",
            "             nan            nan]]\n"
          ],
          "name": "stdout"
        }
      ]
    },
    {
      "cell_type": "code",
      "metadata": {
        "id": "o2e8gJcZgvbW",
        "outputId": "2482c7f2-438f-4791-a443-33f68d90d441",
        "colab": {
          "base_uri": "https://localhost:8080/",
          "height": 34
        }
      },
      "source": [
        "tabela2.shape"
      ],
      "execution_count": null,
      "outputs": [
        {
          "output_type": "execute_result",
          "data": {
            "text/plain": [
              "(14500, 11)"
            ]
          },
          "metadata": {
            "tags": []
          },
          "execution_count": 13
        }
      ]
    },
    {
      "cell_type": "code",
      "metadata": {
        "id": "aH7tUqxXb4qH"
      },
      "source": [
        "tabela3 = np.column_stack((tabela2, senoide[:14500]))"
      ],
      "execution_count": null,
      "outputs": []
    },
    {
      "cell_type": "code",
      "metadata": {
        "id": "3ap4nYFxXWAJ",
        "outputId": "a07c09fc-300a-442c-8f4b-2225542cac4b",
        "colab": {
          "base_uri": "https://localhost:8080/",
          "height": 238
        }
      },
      "source": [
        "print(tabela3)"
      ],
      "execution_count": null,
      "outputs": [
        {
          "output_type": "stream",
          "text": [
            "[[ 1.00000000e+00  1.67000000e-04  1.00000000e+00 ...  1.78830000e-02\n",
            "   2.14310000e-02  0.00000000e+00]\n",
            " [ 2.00000000e+00  3.33000000e-04  1.00000000e+00 ...  1.35690000e-02\n",
            "   1.12240000e-02 -4.97663822e-01]\n",
            " [ 3.00000000e+00  5.00000000e-04  1.00000000e+00 ... -1.82390000e-02\n",
            "   3.09800000e-03 -8.63317340e-01]\n",
            " ...\n",
            " [ 1.44980000e+04  2.41633300e+00  0.00000000e+00 ...  9.52690000e-02\n",
            "  -1.83120000e-02  4.80311097e-01]\n",
            " [ 1.44990000e+04  2.41650000e+00  0.00000000e+00 ...  8.00920000e-02\n",
            "  -2.91070000e-02  9.02242432e-01]\n",
            " [ 1.45000000e+04  2.41666700e+00  0.00000000e+00 ...  5.21940000e-02\n",
            "  -2.31860000e-02  9.84186041e-01]]\n"
          ],
          "name": "stdout"
        }
      ]
    },
    {
      "cell_type": "code",
      "metadata": {
        "id": "j7pwka31eG4x",
        "outputId": "771ecdc3-14fb-42a8-8dd0-b8127a7b9f52",
        "colab": {
          "base_uri": "https://localhost:8080/",
          "height": 282
        }
      },
      "source": [
        "plt.plot(tabela3[14000:,2])\n",
        "plt.plot(tabela3[14000:,6])\n",
        "#plt.plot(tabela3[14200:,11])"
      ],
      "execution_count": null,
      "outputs": [
        {
          "output_type": "execute_result",
          "data": {
            "text/plain": [
              "[<matplotlib.lines.Line2D at 0x7f863d309d68>]"
            ]
          },
          "metadata": {
            "tags": []
          },
          "execution_count": 24
        },
        {
          "output_type": "display_data",
          "data": {
            "image/png": "[encoded data removed]",
            "text/plain": [
              "<Figure size 432x288 with 1 Axes>"
            ]
          },
          "metadata": {
            "tags": [],
            "needs_background": "light"
          }
        }
      ]
    },
    {
      "cell_type": "code",
      "metadata": {
        "id": "36by1x3Yt5oX",
        "outputId": "51bf286a-ffd7-4b31-bec9-990b3a58bdfb",
        "colab": {
          "base_uri": "https://localhost:8080/",
          "height": 282
        }
      },
      "source": [
        "plt.plot(tabela3[71500:,2])\n",
        "plt.plot(tabela3[71500:,3])\n",
        "plt.plot(tabela3[71500:,11])"
      ],
      "execution_count": null,
      "outputs": [
        {
          "output_type": "execute_result",
          "data": {
            "text/plain": [
              "[<matplotlib.lines.Line2D at 0x7f3b82383128>]"
            ]
          },
          "metadata": {
            "tags": []
          },
          "execution_count": 184
        },
        {
          "output_type": "display_data",
          "data": {
            "image/png": "[encoded data removed]",
            "text/plain": [
              "<Figure size 432x288 with 1 Axes>"
            ]
          },
          "metadata": {
            "tags": [],
            "needs_background": "light"
          }
        }
      ]
    },
    {
      "cell_type": "code",
      "metadata": {
        "id": "apKJwAOABtIs",
        "outputId": "c0a26e26-db39-418c-8da4-58ac77eee302",
        "colab": {
          "base_uri": "https://localhost:8080/",
          "height": 282
        }
      },
      "source": [
        "plt.plot(tabela[600:610,2])"
      ],
      "execution_count": null,
      "outputs": [
        {
          "output_type": "execute_result",
          "data": {
            "text/plain": [
              "[<matplotlib.lines.Line2D at 0x7f3b89e44748>]"
            ]
          },
          "metadata": {
            "tags": []
          },
          "execution_count": 13
        },
        {
          "output_type": "display_data",
          "data": {
            "image/png": "[encoded data removed]",
            "text/plain": [
              "<Figure size 432x288 with 1 Axes>"
            ]
          },
          "metadata": {
            "tags": [],
            "needs_background": "light"
          }
        }
      ]
    },
    {
      "cell_type": "markdown",
      "metadata": {
        "id": "1v0kTTO1WPE4"
      },
      "source": [
        "## Salvar os dados"
      ]
    },
    {
      "cell_type": "code",
      "metadata": {
        "id": "vO0pa4rfssW2"
      },
      "source": [
        "np.savetxt('/content/drive/My Drive/Dados concatenados/sen10Hz_001.csv',tabela3,\n",
        "               delimiter=',')"
      ],
      "execution_count": null,
      "outputs": []
    }
  ]
}